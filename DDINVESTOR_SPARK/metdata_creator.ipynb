{
 "cells": [
  {
   "cell_type": "code",
   "execution_count": 1,
   "metadata": {},
   "outputs": [],
   "source": [
    "import pandas as pd\n",
    "import numpy as np\n",
    "class MetadataCreator:\n",
    "    @staticmethod\n",
    "    def create_df(data):\n",
    "        df = pd.DataFrame(columns=['field_name', 'field_type', 'nullable'])\n",
    "\n",
    "        for row in data:\n",
    "            df = df.append({\n",
    "                'field_name': row[0],\n",
    "                'field_type': row[1],\n",
    "                'nullable': row[2]\n",
    "            }, ignore_index=True)\n",
    "\n",
    "        return df\n",
    "    \n",
    "    @classmethod\n",
    "    def to_csv(cls, data, path):\n",
    "        df = cls.create_df(data)\n",
    "        base_path = './data'\n",
    "        df.to_csv(f'{base_path}/{path}', index=False)"
   ]
  },
  {
   "cell_type": "code",
   "execution_count": 2,
   "metadata": {},
   "outputs": [],
   "source": [
    "def stock_price_metadata_ontology():\n",
    "    df = pd.DataFrame(columns=['field_name', 'field_type', 'nullable'])\n",
    "\n",
    "    data_clean = [\n",
    "        ['open_date', 'date', False],\n",
    "        ['open_price', 'double', False],\n",
    "        ['high_price', 'double', False],\n",
    "        ['low_price', 'double', False],\n",
    "        ['close_price', 'double', False],\n",
    "        ['adj_close_price', 'double', False],\n",
    "        ['volume', 'int16', False],\n",
    "        ['ticker_symbol', 'string', False],\n",
    "        ['stock_id', 'string', False],\n",
    "    ]\n",
    "    \n",
    "    MetadataCreator.to_csv(data_clean, '/stock_price/ontology/stock_price_metadata_ontology.csv')\n",
    "stock_price_metadata_ontology()"
   ]
  },
  {
   "cell_type": "code",
   "execution_count": 3,
   "metadata": {},
   "outputs": [],
   "source": [
    "def news_metadata_ontology():\n",
    "    df = pd.DataFrame(columns=['field_name', 'field_type', 'nullable'])\n",
    "\n",
    "    data_clean = [\n",
    "        ['news_id', 'string', False],\n",
    "        ['title', 'string', False],\n",
    "        ['content', 'string', False],\n",
    "        ['published_date', 'date', False],\n",
    "        ['publisher', 'string', False],\n",
    "        ['mentioned_tickers', 'string', False],\n",
    "    ]\n",
    "    \n",
    "    MetadataCreator.to_csv(data_clean, '/news/ontology/news_metadata_ontology.csv')\n",
    "\n",
    "news_metadata_ontology()"
   ]
  },
  {
   "cell_type": "code",
   "execution_count": 4,
   "metadata": {},
   "outputs": [],
   "source": [
    "def news_metadata_processed():\n",
    "    df = pd.DataFrame(columns=['field_name', 'field_type', 'nullable'])\n",
    "\n",
    "    data_clean = [\n",
    "        ['news_id', 'string', False],\n",
    "        ['title', 'string', False],\n",
    "        ['content', 'string', False],\n",
    "        ['published_date', 'date', False],\n",
    "        ['publisher', 'string', False],\n",
    "        ['mentioned_tickers', 'string', False],\n",
    "    ]\n",
    "    \n",
    "    MetadataCreator.to_csv(data_clean, '/news/processed/news_metadata_processed.csv')\n",
    "\n",
    "news_metadata_processed()"
   ]
  },
  {
   "cell_type": "code",
   "execution_count": 5,
   "metadata": {},
   "outputs": [],
   "source": [
    "def comp_details_metadata_processed():\n",
    "    df = pd.DataFrame(columns=['field_name', 'field_type', 'nullable'])\n",
    "    \n",
    "    data_clean = [\n",
    "        ['ticker_symbol', 'string', False],\n",
    "        ['company_name', 'string', False],\n",
    "        ['website_link', 'string', True],\n",
    "        ['num_employees', 'int16', True],\n",
    "        ['description', 'string', True],\n",
    "        ['telephone', 'string', True],\n",
    "        ['sector', 'string', True],\n",
    "        ['industry', 'string', True],\n",
    "        ['country', 'string', True],\n",
    "        ['state', 'string', True],\n",
    "        ['city', 'string', True],\n",
    "        ['shareholders_name', 'string', False],\n",
    "        ['percentage', 'double', False],\n",
    "    ]\n",
    "    \n",
    "    MetadataCreator.to_csv(data_clean, '/company_details/processed/company_details_metadata_processed.csv')\n",
    "comp_details_metadata_processed()"
   ]
  },
  {
   "cell_type": "code",
   "execution_count": 6,
   "metadata": {},
   "outputs": [],
   "source": [
    "def comp_details_metadata_ontology():\n",
    "    df = pd.DataFrame(columns=['field_name', 'field_type', 'nullable'])\n",
    "    \n",
    "    data_clean = [\n",
    "        ['ticker_symbol', 'string', False],\n",
    "        ['company_name', 'string', False],\n",
    "        ['website_link', 'string', True],\n",
    "        ['num_employees', 'int16', True],\n",
    "        ['description', 'string', True],\n",
    "        ['telephone', 'string', True],\n",
    "        ['sector', 'string', True],\n",
    "        ['industry', 'string', True],\n",
    "        ['country', 'string', True],\n",
    "        ['state', 'string', True],\n",
    "        ['city', 'string', True],\n",
    "        ['shareholders_name', 'string', False],\n",
    "        ['percentage', 'double', False],\n",
    "    ]\n",
    "    \n",
    "    MetadataCreator.to_csv(data_clean, '/company_details/ontology/company_details_metadata_ontology.csv')\n",
    "comp_details_metadata_ontology()"
   ]
  },
  {
   "cell_type": "code",
   "execution_count": 7,
   "metadata": {},
   "outputs": [],
   "source": [
    "def yahoo_comp_details_clean():\n",
    "    df = pd.DataFrame(columns=['field_name', 'field_type', 'nullable'])\n",
    "    \n",
    "    data_clean = [\n",
    "        ['ticker_symbol_yh', 'string', False],\n",
    "        ['company_name_yh', 'string', False],\n",
    "        ['telephone_yh', 'string', True],\n",
    "        ['country_yh', 'string', True],\n",
    "        ['state_yh', 'string', True],\n",
    "        ['city_yh', 'string', True],\n",
    "        ['sector_yh', 'string', True],\n",
    "        ['industry_yh', 'string', True],\n",
    "        ['num_employees_yh', 'int16', True],\n",
    "        ['description_yh', 'string', True],\n",
    "        ['website_link_yh', 'string', True],\n",
    "    ]\n",
    "    \n",
    "    MetadataCreator.to_csv(data_clean, '/yahoo_comp_details/clean/yahoo_comp_details_metadata_clean.csv')\n",
    "yahoo_comp_details_clean()"
   ]
  },
  {
   "cell_type": "code",
   "execution_count": 8,
   "metadata": {},
   "outputs": [],
   "source": [
    "def state_codes_metadata_raw():\n",
    "    df = pd.DataFrame(columns=['field_name', 'field_type', 'nullable'])\n",
    "    \n",
    "    data_clean = [\n",
    "        ['State_name', 'string', True],\n",
    "        ['Abbrev', 'string', True],\n",
    "        ['Code', 'string', True],\n",
    "\n",
    "    ]\n",
    "    \n",
    "    MetadataCreator.to_csv(data_clean, '/state_codes/raw/state_codes_metadata_raw.csv')\n",
    "state_codes_metadata_raw()"
   ]
  },
  {
   "cell_type": "code",
   "execution_count": 9,
   "metadata": {},
   "outputs": [],
   "source": [
    "def yahoo_comp_details_metadata_raw():\n",
    "    df = pd.DataFrame(columns=['field_name', 'field_type', 'nullable'])\n",
    "    \n",
    "    data_clean = [\n",
    "        ['ticker', 'string', True],\n",
    "        ['company_name', 'string', True],\n",
    "        ['address', 'string', True],\n",
    "        ['telephone', 'string', True],\n",
    "        ['website_url', 'string', True],\n",
    "        ['industry', 'string', True],\n",
    "        ['sector', 'string', True],\n",
    "        ['no_employees', 'string', True],\n",
    "        ['description', 'string', True],\n",
    "    ]\n",
    "    \n",
    "    MetadataCreator.to_csv(data_clean, '/yahoo_comp_details/raw/yahoo_comp_details_metadata_raw.csv')\n",
    "yahoo_comp_details_metadata_raw()"
   ]
  },
  {
   "cell_type": "code",
   "execution_count": 10,
   "metadata": {},
   "outputs": [],
   "source": [
    "def nasdaq_comp_details_metadata_raw():\n",
    "    df = pd.DataFrame(columns=['field_name', 'field_type', 'nullable'])\n",
    "    \n",
    "    data_clean = [\n",
    "        ['ticker', 'string', True],\n",
    "        ['company_name', 'string', True],\n",
    "        ['description', 'string', True],\n",
    "        ['industry', 'string', True],\n",
    "        ['sector', 'string', True],\n",
    "        ['telephone', 'string', True],\n",
    "        ['address', 'string', True],\n",
    "    ]\n",
    "    \n",
    "    MetadataCreator.to_csv(data_clean, '/nasdaq_comp_details/raw/nasdaq_comp_details_metadata_raw.csv')\n",
    "nasdaq_comp_details_metadata_raw()"
   ]
  },
  {
   "cell_type": "code",
   "execution_count": 11,
   "metadata": {},
   "outputs": [],
   "source": [
    "def nasdaq_comp_details_metadata_clean():\n",
    "    df = pd.DataFrame(columns=['field_name', 'field_type', 'nullable'])\n",
    "    \n",
    "    data_clean = [\n",
    "        ['ticker_symbol_nq', 'string', False],\n",
    "        ['company_name_nq', 'string', False],\n",
    "        ['description_nq', 'string', True],\n",
    "        ['industry_nq', 'string', True],\n",
    "        ['sector_nq', 'string', True],\n",
    "        ['telephone_nq', 'string', True],\n",
    "        ['country_nq', 'string', True],\n",
    "        ['state_nq', 'string', True],\n",
    "        ['city_nq', 'string', True],\n",
    "        ['website_link_nq', 'string', True],\n",
    "        ['num_employees_nq', 'int16', True],\n",
    "    ]\n",
    "    \n",
    "    MetadataCreator.to_csv(data_clean, '/nasdaq_comp_details/clean/nasdaq_comp_details_metadata_clean.csv')\n",
    "nasdaq_comp_details_metadata_clean()"
   ]
  },
  {
   "cell_type": "code",
   "execution_count": 12,
   "metadata": {},
   "outputs": [],
   "source": [
    "def bi_comp_details_metadata_raw():\n",
    "    df = pd.DataFrame(columns=['field_name', 'field_type', 'nullable'])\n",
    "    \n",
    "    data_clean = [\n",
    "        ['address', 'string', True],\n",
    "        ['company_name', 'string', True],\n",
    "        ['description', 'string', True],\n",
    "        ['fax', 'string', True],\n",
    "\n",
    "        ['shareholders', 'string', True],\n",
    "        ['postoffice_box', 'string', True],\n",
    "        ['telephone', 'string', True],\n",
    "        ['ticker', 'string', True],\n",
    "        ['website', 'string', True],\n",
    "\n",
    "    ]\n",
    "    \n",
    "    MetadataCreator.to_csv(data_clean, '/bi_comp_details/raw/bi_comp_details_raw.csv')\n",
    "bi_comp_details_metadata_raw()"
   ]
  },
  {
   "cell_type": "code",
   "execution_count": 13,
   "metadata": {},
   "outputs": [],
   "source": [
    "def shareholders_ddl():\n",
    "    df = pd.DataFrame(columns=['field_name', 'field_type', 'nullable'])\n",
    "    \n",
    "    data_clean = [\n",
    "        ['shareholder_id', 'string', False],\n",
    "\n",
    "    ]\n",
    "    \n",
    "    MetadataCreator.to_csv(data_clean, '/company_details/ddl/shareholders_metadata_ddl.csv')\n",
    "shareholders_ddl()"
   ]
  },
  {
   "cell_type": "code",
   "execution_count": 14,
   "metadata": {},
   "outputs": [],
   "source": [
    "def country_ddl():\n",
    "    df = pd.DataFrame(columns=['field_name', 'field_type', 'nullable'])\n",
    "    \n",
    "    data_clean = [\n",
    "        ['country_id', 'string', False],\n",
    "\n",
    "    ]\n",
    "    \n",
    "    MetadataCreator.to_csv(data_clean, '/company_details/ddl/country_metadata_ddl.csv')\n",
    "country_ddl()"
   ]
  },
  {
   "cell_type": "code",
   "execution_count": 15,
   "metadata": {},
   "outputs": [],
   "source": [
    "def bi_comp_details_metadata_clean():\n",
    "    df = pd.DataFrame(columns=['field_name', 'field_type', 'nullable'])\n",
    "    \n",
    "    data_clean = [\n",
    "        ['company_name_bi', 'string', False],\n",
    "        ['ticker_symbol_bi', 'string', False],\n",
    "        ['description_bi', 'string', True],\n",
    "        ['telephone_bi', 'string', True],\n",
    "\n",
    "        ['website_link_bi', 'string', True],\n",
    "        ['shareholders_name_bi', 'string', True],\n",
    "        ['percentage_bi', 'double', True],\n",
    "        ['city_bi', 'string', True],\n",
    "        ['country_bi', 'string', True],\n",
    "        ['state_bi', 'string', True],\n",
    "        ['num_employees_bi', 'int16', True],\n",
    "    ]\n",
    "    \n",
    "    MetadataCreator.to_csv(data_clean, '/bi_comp_details/clean/bi_comp_details_metadata_clean.csv')\n",
    "bi_comp_details_metadata_clean()"
   ]
  },
  {
   "cell_type": "code",
   "execution_count": 16,
   "metadata": {},
   "outputs": [],
   "source": [
    "def state_ddl():\n",
    "    df = pd.DataFrame(columns=['field_name', 'field_type', 'nullable'])\n",
    "    \n",
    "    data_clean = [\n",
    "        ['state_id', 'string', False],\n",
    "\n",
    "    ]\n",
    "    \n",
    "    MetadataCreator.to_csv(data_clean, '/company_details/ddl/state_metadata_ddl.csv')\n",
    "state_ddl()"
   ]
  },
  {
   "cell_type": "code",
   "execution_count": 17,
   "metadata": {},
   "outputs": [],
   "source": [
    "def city_ddl():\n",
    "    df = pd.DataFrame(columns=['field_name', 'field_type', 'nullable'])\n",
    "    \n",
    "    data_clean = [\n",
    "        ['city_id', 'string', False],\n",
    "\n",
    "    ]\n",
    "    \n",
    "    MetadataCreator.to_csv(data_clean, '/company_details/ddl/city_metadata_ddl.csv')\n",
    "city_ddl()"
   ]
  },
  {
   "cell_type": "code",
   "execution_count": 18,
   "metadata": {},
   "outputs": [],
   "source": [
    "def industry_ddl():\n",
    "    df = pd.DataFrame(columns=['field_name', 'field_type', 'nullable'])\n",
    "    \n",
    "    data_clean = [\n",
    "        ['industry_id', 'string', False],\n",
    "\n",
    "    ]\n",
    "    \n",
    "    MetadataCreator.to_csv(data_clean, '/company_details/ddl/industry_metadata_ddl.csv')\n",
    "industry_ddl()"
   ]
  },
  {
   "cell_type": "code",
   "execution_count": 19,
   "metadata": {},
   "outputs": [],
   "source": [
    "def sector_ddl():\n",
    "    df = pd.DataFrame(columns=['field_name', 'field_type', 'nullable'])\n",
    "    \n",
    "    data_clean = [\n",
    "        ['sector_id', 'string', False],\n",
    "\n",
    "    ]\n",
    "    \n",
    "    MetadataCreator.to_csv(data_clean, '/company_details/ddl/sector_metadata_ddl.csv')\n",
    "sector_ddl()"
   ]
  },
  {
   "cell_type": "code",
   "execution_count": 20,
   "metadata": {},
   "outputs": [],
   "source": [
    "def comp_details_ddl():\n",
    "    df = pd.DataFrame(columns=['field_name', 'field_type', 'nullable'])\n",
    "    \n",
    "    data_clean = [\n",
    "        ['company_id', 'string', False],\n",
    "        ['company_name', 'string', False],\n",
    "        ['website_link', 'string', False],\n",
    "        ['num_employees', 'int16', False],\n",
    "        ['description', 'string', False],\n",
    "        ['telephone', 'string', False],\n",
    "    ]\n",
    "    \n",
    "    MetadataCreator.to_csv(data_clean, '/company_details/ddl/company_details_metadata_ddl.csv')\n",
    "comp_details_ddl()"
   ]
  },
  {
   "cell_type": "code",
   "execution_count": 21,
   "metadata": {},
   "outputs": [],
   "source": [
    "def company_IN_INDUSTRY_industry_metadata():\n",
    "    df = pd.DataFrame(columns=['field_name', 'field_type', 'nullable'])\n",
    "    \n",
    "    data_clean = [\n",
    "        ['company_id', 'string', False],\n",
    "        ['industry_id', 'string', False],\n",
    "    ]\n",
    "    \n",
    "    MetadataCreator.to_csv(data_clean, '/company_details/ddl/company_IN_INDUSTRY_industry_metadata_ddl.csv')"
   ]
  },
  {
   "cell_type": "code",
   "execution_count": 22,
   "metadata": {},
   "outputs": [],
   "source": [
    "company_IN_INDUSTRY_industry_metadata()"
   ]
  },
  {
   "cell_type": "code",
   "execution_count": 23,
   "metadata": {},
   "outputs": [],
   "source": [
    "def industry_MEMBER_OF_sector_metadata():\n",
    "    df = pd.DataFrame(columns=['field_name', 'field_type', 'nullable'])\n",
    "    \n",
    "    data_clean = [\n",
    "        ['industry_id', 'string', False],\n",
    "        ['sector_id', 'string', False],\n",
    "    ]\n",
    "    \n",
    "    MetadataCreator.to_csv(data_clean, '/company_details/ddl/industry_MEMBER_OF_sector_metadata_ddl.csv')"
   ]
  },
  {
   "cell_type": "code",
   "execution_count": 24,
   "metadata": {},
   "outputs": [],
   "source": [
    "industry_MEMBER_OF_sector_metadata()"
   ]
  },
  {
   "cell_type": "code",
   "execution_count": 25,
   "metadata": {},
   "outputs": [],
   "source": [
    "def company_LOCALIZED_IN_city_metadata():\n",
    "    df = pd.DataFrame(columns=['field_name', 'field_type', 'nullable'])\n",
    "    \n",
    "    data_clean = [\n",
    "        ['company_id', 'string', False],\n",
    "        ['city_id', 'string', False],\n",
    "    ]\n",
    "    \n",
    "    MetadataCreator.to_csv(data_clean, '/company_details/ddl/company_LOCALIZED_IN_city_metadata_ddl.csv')"
   ]
  },
  {
   "cell_type": "code",
   "execution_count": 26,
   "metadata": {},
   "outputs": [],
   "source": [
    "company_LOCALIZED_IN_city_metadata()"
   ]
  },
  {
   "cell_type": "code",
   "execution_count": 27,
   "metadata": {},
   "outputs": [],
   "source": [
    "def city_IS_IN_state_metadata():\n",
    "    df = pd.DataFrame(columns=['field_name', 'field_type', 'nullable'])\n",
    "    \n",
    "    data_clean = [\n",
    "        ['city_id', 'string', False],\n",
    "        ['state_id', 'string', False],\n",
    "    ]\n",
    "    \n",
    "    MetadataCreator.to_csv(data_clean, '/company_details/ddl/city_IS_IN_state_metadata_ddl.csv')"
   ]
  },
  {
   "cell_type": "code",
   "execution_count": 28,
   "metadata": {},
   "outputs": [],
   "source": [
    "city_IS_IN_state_metadata()"
   ]
  },
  {
   "cell_type": "code",
   "execution_count": 29,
   "metadata": {},
   "outputs": [],
   "source": [
    "def city_IS_IN_country_metadata():\n",
    "    df = pd.DataFrame(columns=['field_name', 'field_type', 'nullable'])\n",
    "    \n",
    "    data_clean = [\n",
    "        ['city_id', 'string', False],\n",
    "        ['country_id', 'string', False],\n",
    "    ]\n",
    "    \n",
    "    MetadataCreator.to_csv(data_clean, '/company_details/ddl/city_IS_IN_country_metadata_ddl.csv')"
   ]
  },
  {
   "cell_type": "code",
   "execution_count": 30,
   "metadata": {},
   "outputs": [],
   "source": [
    "city_IS_IN_country_metadata()"
   ]
  },
  {
   "cell_type": "code",
   "execution_count": 31,
   "metadata": {},
   "outputs": [],
   "source": [
    "def state_PART_OF_country_metadata():\n",
    "    df = pd.DataFrame(columns=['field_name', 'field_type', 'nullable'])\n",
    "    \n",
    "    data_clean = [\n",
    "        ['state_id', 'string', False],\n",
    "        ['country_id', 'string', False],\n",
    "    ]\n",
    "    \n",
    "    MetadataCreator.to_csv(data_clean, '/company_details/ddl/state_PART_OF_country_metadata_ddl.csv')"
   ]
  },
  {
   "cell_type": "code",
   "execution_count": 32,
   "metadata": {},
   "outputs": [],
   "source": [
    "state_PART_OF_country_metadata()"
   ]
  },
  {
   "cell_type": "code",
   "execution_count": 33,
   "metadata": {},
   "outputs": [],
   "source": [
    "def shareholder_HAS_SHARES_IN_company_metadata():\n",
    "    df = pd.DataFrame(columns=['field_name', 'field_type', 'nullable'])\n",
    "\n",
    "    data_clean = [\n",
    "        ['shareholder_id', 'string', False],\n",
    "        ['company_id', 'string', False],\n",
    "        ['percentage', 'double', False],\n",
    "    ]\n",
    "    \n",
    "    MetadataCreator.to_csv(data_clean, '/company_details/ddl/shareholder_HAS_SHARES_IN_company_metadata_ddl.csv')"
   ]
  },
  {
   "cell_type": "code",
   "execution_count": 34,
   "metadata": {},
   "outputs": [],
   "source": [
    "shareholder_HAS_SHARES_IN_company_metadata()"
   ]
  },
  {
   "cell_type": "code",
   "execution_count": 35,
   "metadata": {},
   "outputs": [],
   "source": [
    "def nasdaq_news_metadata():\n",
    "    df = pd.DataFrame(columns=['field_name', 'field_type', 'nullable'])\n",
    "\n",
    "    data_clean = [\n",
    "        ['title', 'string', True],\n",
    "        ['content', 'string', True],\n",
    "        ['contributor', 'string', True],\n",
    "        ['published_date', 'string', True],\n",
    "        ['mentioned_tickers', 'string', True],\n",
    "    ]\n",
    "    \n",
    "    MetadataCreator.to_csv(data_clean, '/nasdaq_news/raw/nasdaq_news_metadata_raw.csv')"
   ]
  },
  {
   "cell_type": "code",
   "execution_count": 36,
   "metadata": {},
   "outputs": [],
   "source": [
    "nasdaq_news_metadata()"
   ]
  },
  {
   "cell_type": "code",
   "execution_count": 37,
   "metadata": {},
   "outputs": [],
   "source": [
    "def nasdaq_news_metadata_clean():\n",
    "    df = pd.DataFrame(columns=['field_name', 'field_type', 'nullable'])\n",
    "\n",
    "    data_clean = [\n",
    "        ['title', 'string', False],\n",
    "        ['content', 'string', False],\n",
    "        ['publisher', 'string', False],\n",
    "        ['published_date', 'date', False],\n",
    "        ['mentioned_tickers', 'string', False],\n",
    "    ]\n",
    "    \n",
    "    MetadataCreator.to_csv(data_clean, '/nasdaq_news/clean/nasdaq_news_metadata_clean.csv')"
   ]
  },
  {
   "cell_type": "code",
   "execution_count": 38,
   "metadata": {},
   "outputs": [],
   "source": [
    "nasdaq_news_metadata_clean()"
   ]
  },
  {
   "cell_type": "code",
   "execution_count": 39,
   "metadata": {},
   "outputs": [],
   "source": [
    "def bi_news_metadata():\n",
    "    df = pd.DataFrame(columns=['field_name', 'field_type', 'nullable'])\n",
    "\n",
    "    data_clean = [\n",
    "        ['title', 'string', True],\n",
    "        ['content', 'string', True],\n",
    "        ['published_date', 'string', True],\n",
    "        ['publisher', 'string', True],\n",
    "        ['ticker_symbol', 'string', True],\n",
    "    ]\n",
    "    \n",
    "    MetadataCreator.to_csv(data_clean, '/bi_news/raw/bi_news_metadata_raw.csv')"
   ]
  },
  {
   "cell_type": "code",
   "execution_count": 40,
   "metadata": {},
   "outputs": [],
   "source": [
    "bi_news_metadata()"
   ]
  },
  {
   "cell_type": "code",
   "execution_count": 41,
   "metadata": {},
   "outputs": [],
   "source": [
    "def bi_news_metadata_clean():\n",
    "    df = pd.DataFrame(columns=['field_name', 'field_type', 'nullable'])\n",
    "\n",
    "    data_clean = [\n",
    "        ['title', 'string', False],\n",
    "        ['content', 'string', False],\n",
    "        ['published_date', 'date', False],\n",
    "        ['publisher', 'string', False],\n",
    "        ['mentioned_tickers', 'string', False],\n",
    "    ]\n",
    "    \n",
    "    MetadataCreator.to_csv(data_clean, '/bi_news/clean/bi_news_metadata_clean.csv')"
   ]
  },
  {
   "cell_type": "code",
   "execution_count": 42,
   "metadata": {},
   "outputs": [],
   "source": [
    "bi_news_metadata_clean()"
   ]
  },
  {
   "cell_type": "code",
   "execution_count": 43,
   "metadata": {},
   "outputs": [],
   "source": [
    "def news_metadata_ontology():\n",
    "    df = pd.DataFrame(columns=['field_name', 'field_type', 'nullable'])\n",
    "\n",
    "    data_clean = [\n",
    "        ['news_id','string', False],\n",
    "        ['title', 'string', False],\n",
    "        ['content', 'string', False],\n",
    "        ['published_date', 'date', False],\n",
    "        ['publisher', 'string', False],\n",
    "        ['mentioned_tickers', 'string', False],\n",
    "    ]\n",
    "    \n",
    "    MetadataCreator.to_csv(data_clean, '/news/ontology/news_metadata_ontology.csv')"
   ]
  },
  {
   "cell_type": "code",
   "execution_count": 44,
   "metadata": {},
   "outputs": [],
   "source": [
    "news_metadata_ontology()"
   ]
  },
  {
   "cell_type": "code",
   "execution_count": 45,
   "metadata": {},
   "outputs": [],
   "source": [
    "def yahoo_price_metadata():\n",
    "    df = pd.DataFrame(columns=['field_name', 'field_type', 'nullable'])\n",
    "\n",
    "    data_clean = [\n",
    "        ['open_date', 'string', True],\n",
    "        ['open_price', 'string', True],\n",
    "        ['high_price', 'string', True],\n",
    "        ['low_price', 'string', True],\n",
    "        ['close_price', 'string', True],\n",
    "        ['adj_close_price', 'string', True],\n",
    "        ['volume', 'string', True],\n",
    "        ['ticker_symbol', 'string', True],\n",
    "    ]\n",
    "    \n",
    "    MetadataCreator.to_csv(data_clean, '/yahoo_stock_price/raw/yahoo_price_metadata_raw.csv')"
   ]
  },
  {
   "cell_type": "code",
   "execution_count": 46,
   "metadata": {},
   "outputs": [],
   "source": [
    "yahoo_price_metadata()"
   ]
  },
  {
   "cell_type": "code",
   "execution_count": 47,
   "metadata": {},
   "outputs": [],
   "source": [
    "def yahoo_price_metadata_clean():\n",
    "    df = pd.DataFrame(columns=['field_name', 'field_type', 'nullable'])\n",
    "\n",
    "    data_clean = [\n",
    "        ['open_date', 'date', False],\n",
    "        ['open_price', 'double', False],\n",
    "        ['high_price', 'double', False],\n",
    "        ['low_price', 'double', False],\n",
    "        ['close_price', 'double', False],\n",
    "        ['adj_close_price', 'double', False],\n",
    "        ['volume', 'int16', False],\n",
    "        ['ticker_symbol', 'string', False],\n",
    "        ['stock_id', 'string', False],\n",
    "    ]\n",
    "    \n",
    "    MetadataCreator.to_csv(data_clean, '/yahoo_stock_price/clean/yahoo_price_metadata_clean.csv')"
   ]
  },
  {
   "cell_type": "code",
   "execution_count": 48,
   "metadata": {},
   "outputs": [],
   "source": [
    "yahoo_price_metadata_clean()"
   ]
  },
  {
   "cell_type": "code",
   "execution_count": 49,
   "metadata": {},
   "outputs": [],
   "source": [
    "def publisher_metadata_ddl():\n",
    "    df = pd.DataFrame(columns=['field_name', 'field_type', 'nullable'])\n",
    "\n",
    "    data_clean = [\n",
    "        ['publisher_id', 'string', False],\n",
    "    ]\n",
    "    \n",
    "    MetadataCreator.to_csv(data_clean, '/news/ddl/publisher_metadata_ddl.csv')"
   ]
  },
  {
   "cell_type": "code",
   "execution_count": 50,
   "metadata": {},
   "outputs": [],
   "source": [
    "publisher_metadata_ddl()"
   ]
  },
  {
   "cell_type": "code",
   "execution_count": 69,
   "metadata": {},
   "outputs": [],
   "source": [
    "def news_metadata_ddl():\n",
    "    df = pd.DataFrame(columns=['field_name', 'field_type', 'nullable'])\n",
    "\n",
    "    data_clean = [\n",
    "        ['news_id', 'string', False],\n",
    "        ['title','string',False],\n",
    "        ['content', 'string', False],\n",
    "    ]\n",
    "    \n",
    "    MetadataCreator.to_csv(data_clean, '/news/ddl/news_metadata_ddl.csv')"
   ]
  },
  {
   "cell_type": "code",
   "execution_count": 70,
   "metadata": {},
   "outputs": [],
   "source": [
    "news_metadata_ddl()"
   ]
  },
  {
   "cell_type": "code",
   "execution_count": 53,
   "metadata": {},
   "outputs": [],
   "source": [
    "def date_metadata_ddl():\n",
    "    df = pd.DataFrame(columns=['field_name', 'field_type', 'nullable'])\n",
    "\n",
    "    data_clean = [\n",
    "        ['date_id', 'date', False],\n",
    "    ]\n",
    "    \n",
    "    MetadataCreator.to_csv(data_clean, '/news/ddl/date_metadata_ddl.csv')"
   ]
  },
  {
   "cell_type": "code",
   "execution_count": 54,
   "metadata": {},
   "outputs": [],
   "source": [
    "date_metadata_ddl()"
   ]
  },
  {
   "cell_type": "code",
   "execution_count": 55,
   "metadata": {},
   "outputs": [],
   "source": [
    "def stock_metadata_ddl():\n",
    "    df = pd.DataFrame(columns=['field_name', 'field_type', 'nullable'])\n",
    "\n",
    "    data_clean = [\n",
    "        ['open_price', 'double', False],\n",
    "        ['high_price', 'double', False],\n",
    "        ['low_price', 'double', False],\n",
    "        ['close_price', 'double', False],\n",
    "        ['adj_close_price', 'double', False],\n",
    "        ['volume', 'int16', False],\n",
    "        ['stock_id', 'string', False],\n",
    "    ]\n",
    "    \n",
    "    MetadataCreator.to_csv(data_clean, '/stock_price/ddl/stock_metadata_ddl.csv')"
   ]
  },
  {
   "cell_type": "code",
   "execution_count": 56,
   "metadata": {},
   "outputs": [],
   "source": [
    "stock_metadata_ddl()"
   ]
  },
  {
   "cell_type": "code",
   "execution_count": 57,
   "metadata": {},
   "outputs": [],
   "source": [
    "def stock_IS_VALUED_FOR_company_metadata_ddl():\n",
    "    df = pd.DataFrame(columns=['field_name', 'field_type', 'nullable'])\n",
    "\n",
    "    data_clean = [\n",
    "        ['stock_id', 'string', False],\n",
    "        ['company_id', 'string', False],\n",
    "    ]\n",
    "    \n",
    "    MetadataCreator.to_csv(data_clean, '/stock_price/ddl/stock_IS_VALUED_FOR_company_metadata_ddl.csv')"
   ]
  },
  {
   "cell_type": "code",
   "execution_count": 58,
   "metadata": {},
   "outputs": [],
   "source": [
    "stock_IS_VALUED_FOR_company_metadata_ddl()"
   ]
  },
  {
   "cell_type": "code",
   "execution_count": 59,
   "metadata": {},
   "outputs": [],
   "source": [
    "def publisher_PUBLISHES_news_ddl():\n",
    "    df = pd.DataFrame(columns=['field_name', 'field_type', 'nullable'])\n",
    "\n",
    "    data_clean = [\n",
    "        ['publisher_id', 'string', False],\n",
    "        ['news_id', 'string', False],\n",
    "    ]\n",
    "    \n",
    "    MetadataCreator.to_csv(data_clean, '/news/ddl/publisher_PUBLISHES_news_metadata_ddl.csv')"
   ]
  },
  {
   "cell_type": "code",
   "execution_count": 60,
   "metadata": {},
   "outputs": [],
   "source": [
    "publisher_PUBLISHES_news_ddl()"
   ]
  },
  {
   "cell_type": "code",
   "execution_count": 61,
   "metadata": {},
   "outputs": [],
   "source": [
    "def news_CONCERNS_company_ddl():\n",
    "    df = pd.DataFrame(columns=['field_name', 'field_type', 'nullable'])\n",
    "\n",
    "    data_clean = [\n",
    "        ['news_id', 'string', False],\n",
    "        ['company_id', 'string', False],\n",
    "    ]\n",
    "    \n",
    "    MetadataCreator.to_csv(data_clean, '/news/ddl/news_CONCERNS_company_metadata_ddl.csv')"
   ]
  },
  {
   "cell_type": "code",
   "execution_count": 62,
   "metadata": {},
   "outputs": [],
   "source": [
    "news_CONCERNS_company_ddl()"
   ]
  },
  {
   "cell_type": "code",
   "execution_count": 63,
   "metadata": {},
   "outputs": [],
   "source": [
    "def news_IS_ISSUED_ON_date_ddl():\n",
    "    df = pd.DataFrame(columns=['field_name', 'field_type', 'nullable'])\n",
    "\n",
    "    data_clean = [\n",
    "        ['news_id', 'string', False],\n",
    "        ['date_id', 'date', False],\n",
    "    ]\n",
    "    \n",
    "    MetadataCreator.to_csv(data_clean, '/news/ddl/news_IS_ISSUED_ON_date_metadata_ddl.csv')"
   ]
  },
  {
   "cell_type": "code",
   "execution_count": 64,
   "metadata": {},
   "outputs": [],
   "source": [
    "news_IS_ISSUED_ON_date_ddl()"
   ]
  },
  {
   "cell_type": "code",
   "execution_count": 65,
   "metadata": {},
   "outputs": [],
   "source": [
    "def stock_IS_VALUED_ON_date_ddl():\n",
    "    df = pd.DataFrame(columns=['field_name', 'field_type', 'nullable'])\n",
    "\n",
    "    data_clean = [\n",
    "        ['stock_id', 'string', False],\n",
    "        ['date_id', 'date', False],\n",
    "    ]\n",
    "    \n",
    "    MetadataCreator.to_csv(data_clean, '/stock_price/ddl/stock_IS_VALUED_ON_date_metadata_ddl.csv')"
   ]
  },
  {
   "cell_type": "code",
   "execution_count": 66,
   "metadata": {},
   "outputs": [],
   "source": [
    "stock_IS_VALUED_ON_date_ddl()"
   ]
  },
  {
   "cell_type": "code",
   "execution_count": null,
   "metadata": {},
   "outputs": [],
   "source": []
  }
 ],
 "metadata": {
  "kernelspec": {
   "display_name": "Python 3",
   "language": "python",
   "name": "python3"
  },
  "language_info": {
   "codemirror_mode": {
    "name": "ipython",
    "version": 3
   },
   "file_extension": ".py",
   "mimetype": "text/x-python",
   "name": "python",
   "nbconvert_exporter": "python",
   "pygments_lexer": "ipython3",
   "version": "3.7.7"
  }
 },
 "nbformat": 4,
 "nbformat_minor": 4
}
