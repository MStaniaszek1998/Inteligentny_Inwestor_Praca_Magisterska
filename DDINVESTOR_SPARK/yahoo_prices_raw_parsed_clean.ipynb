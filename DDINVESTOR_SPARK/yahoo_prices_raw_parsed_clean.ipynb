{
 "cells": [
  {
   "cell_type": "code",
   "execution_count": 1,
   "metadata": {},
   "outputs": [],
   "source": [
    "\n",
    "\n",
    "import findspark\n",
    "findspark.init()\n",
    "\n",
    "import pyspark\n",
    "from pyspark.sql import SparkSession\n",
    "''\n",
    "sc = pyspark.SparkContext(appName=\"yahoo_stock_price_raw_parsed_cleaned\")\n",
    "spark = SparkSession(sc)\n",
    "spark.conf.set('spark.sql.session.timeZone', 'UTC')"
   ]
  },
  {
   "cell_type": "code",
   "execution_count": 2,
   "metadata": {},
   "outputs": [],
   "source": [
    "from skainet_spark import Pipeline, transform, Input, Output, Metadata,ValidatedPipeline,assign_shortcuts,print_statistics\n",
    "from pyspark.sql.types import StructField, StructType, StringType, LongType,DoubleType,ArrayType,FloatType, BooleanType,IntegerType\n",
    "import pyspark.sql.functions as F\n",
    "from pyspark.sql.functions import udf\n"
   ]
  },
  {
   "cell_type": "markdown",
   "metadata": {},
   "source": [
    "# Yahoo Price - Raw Parsed Clean"
   ]
  },
  {
   "cell_type": "markdown",
   "metadata": {},
   "source": [
    "## Raw"
   ]
  },
  {
   "cell_type": "code",
   "execution_count": 3,
   "metadata": {},
   "outputs": [],
   "source": [
    "@transform(spark,\n",
    "    raw = Output('/yahoo_stock_price/raw/yahoo_price_raw.parquet'),\n",
    "    metadata = Metadata('/yahoo_stock_price/raw/yahoo_price_metadata_raw.csv', spark)\n",
    ")\n",
    "def raw_yahoo_price(spark,raw,metadata):\n",
    "    schema=metadata()\n",
    "    df = (spark\n",
    "          .read\n",
    "          .format('csv')\n",
    "          .option('header','true')\n",
    "        .schema(schema)\n",
    "          .load('input/yahoo_price/*.csv')\n",
    "         )\n",
    "    pipeline=Pipeline(df)\n",
    "    pipeline.show_dimensions()\n",
    "    pipeline.dataframe.printSchema()\n",
    "    pipeline.dataframe.show(10)\n",
    "    pipeline.write(raw)\n",
    "\n"
   ]
  },
  {
   "cell_type": "code",
   "execution_count": 4,
   "metadata": {},
   "outputs": [
    {
     "name": "stdout",
     "output_type": "stream",
     "text": [
      "cols: 8 rows: 1081502\n",
      "root\n",
      " |-- open_date: string (nullable = true)\n",
      " |-- open_price: string (nullable = true)\n",
      " |-- high_price: string (nullable = true)\n",
      " |-- low_price: string (nullable = true)\n",
      " |-- close_price: string (nullable = true)\n",
      " |-- adj_close_price: string (nullable = true)\n",
      " |-- volume: string (nullable = true)\n",
      " |-- ticker_symbol: string (nullable = true)\n",
      "\n",
      "+----------+------------------+----------+------------------+------------------+------------------+--------+-------------+\n",
      "| open_date|        open_price|high_price|         low_price|       close_price|   adj_close_price|  volume|ticker_symbol|\n",
      "+----------+------------------+----------+------------------+------------------+------------------+--------+-------------+\n",
      "|2010-07-14|        245.185181|247.162155|         243.47348|        245.915909|        245.915909| 6229700|        googl|\n",
      "|2010-07-15|        246.111115|247.597595|        241.581589|        247.257263|        247.257263| 9706600|        googl|\n",
      "|2010-07-16|          234.7948|235.515518|         229.98999|        230.035034|        230.035034|15633900|        googl|\n",
      "|2010-07-19|        230.735733|235.060059|        228.988983|233.32331800000003|233.32331800000003| 9091400|        googl|\n",
      "|2010-07-20|        230.745743| 241.73674|        230.530533|        241.036041|        241.036041| 8100800|        googl|\n",
      "|2010-07-21|        242.242249|243.093094|        237.952957|        238.988983|        238.988983| 6552600|        googl|\n",
      "|2010-07-22|        241.856857|244.734741|        241.481476|        242.647644|        242.647644| 4291100|        googl|\n",
      "|2010-07-23|        240.625626|245.540543|240.24523900000003|        245.275269|        245.275269| 4524200|        googl|\n",
      "|2010-07-26|244.78979500000003|245.620621|        242.682678|        244.729736|        244.729736| 3986400|        googl|\n",
      "|2010-07-27|        245.535538|248.998993|        245.330338|        246.561554|        246.561554| 4897400|        googl|\n",
      "+----------+------------------+----------+------------------+------------------+------------------+--------+-------------+\n",
      "only showing top 10 rows\n",
      "\n"
     ]
    }
   ],
   "source": [
    "raw_yahoo_price(spark)"
   ]
  },
  {
   "cell_type": "markdown",
   "metadata": {},
   "source": [
    "## Parsed"
   ]
  },
  {
   "cell_type": "code",
   "execution_count": 5,
   "metadata": {},
   "outputs": [],
   "source": [
    "@transform(spark,\n",
    "    raw = Input('/yahoo_stock_price/raw/yahoo_price_raw.parquet',spark),\n",
    "    parsed = Output('/yahoo_stock_price/parsed/yahoo_price_parsed.parquet')\n",
    ")\n",
    "def parsed_yahoo_price(spark,raw,parsed):\n",
    "    pipe = Pipeline(raw)\n",
    "    #print_statistics(pipe)\n",
    "    double_type_cols=['open_price','high_price','low_price','close_price','adj_close_price']\n",
    "    int_type_cols = ['volume']\n",
    "    pipe = (pipe\n",
    "            .transform(parse_date)\n",
    "            .transform(cast_cols_to_number,double_type_cols,DoubleType)\n",
    "            .transform(cast_cols_to_number,int_type_cols,IntegerType)\n",
    "            .transform(parse_ticker)\n",
    "            .transform(drop_where_open_price_null)\n",
    "            .transform(create_unique_id)\n",
    "            .transform(restrict_dates)\n",
    "           )\n",
    "\n",
    "   \n",
    "    print('Yahoo Price Parsed')\n",
    "    pipe.dataframe.select('*').show(10,0)\n",
    "    print_statistics(pipe)\n",
    "    pipe.write(parsed)\n",
    "\n",
    "def restrict_dates(dataframe):\n",
    "    col = 'open_date'\n",
    "    dataframe = dataframe.where(F.col(col) >= '2020-06-01')\n",
    "    return dataframe\n",
    "def create_unique_id(dataframe):\n",
    "    new_col = 'stock_id'\n",
    "    dataframe = dataframe.withColumn(new_col, F.concat_ws('-',F.col('open_date'), F.col('ticker_symbol') ) )\n",
    "    return dataframe\n",
    "\n",
    "def drop_where_open_price_null(dataframe):\n",
    "    col='open_price'\n",
    "    dataframe = dataframe.where(F.col(col).isNotNull())\n",
    "    return dataframe\n",
    "\n",
    "def parse_ticker(dataframe):\n",
    "    col = 'ticker_symbol'\n",
    "    dataframe = dataframe.withColumn(col, F.upper(F.col(col)))\n",
    "    return dataframe\n",
    "\n",
    "def parse_date(dataframe):\n",
    "    col = 'open_date'\n",
    "    date_format= 'yyyy-MM-dd'\n",
    "    dataframe = dataframe.withColumn(col,F.to_date(F.col(col), date_format))\n",
    "    return dataframe\n",
    "\n",
    "def cast_cols_to_number(dataframe,cols,data_type):\n",
    "    for col in cols:\n",
    "        dataframe = dataframe.withColumn(col,F.col(col).cast(data_type()))\n",
    "    return dataframe\n"
   ]
  },
  {
   "cell_type": "code",
   "execution_count": 6,
   "metadata": {},
   "outputs": [
    {
     "name": "stdout",
     "output_type": "stream",
     "text": [
      "Yahoo Price Parsed\n",
      "+----------+-----------+-----------+-----------+-----------+---------------+-------+-------------+----------------+\n",
      "|open_date |open_price |high_price |low_price  |close_price|adj_close_price|volume |ticker_symbol|stock_id        |\n",
      "+----------+-----------+-----------+-----------+-----------+---------------+-------+-------------+----------------+\n",
      "|2020-06-01|1425.699951|1441.579956|1422.280029|1434.869995|1434.869995    |1258100|GOOGL        |2020-06-01-GOOGL|\n",
      "|2020-06-02|1435.0     |1443.0     |1421.609985|1442.310059|1442.310059    |1172100|GOOGL        |2020-06-02-GOOGL|\n",
      "|2020-06-03|1442.699951|1449.01001 |1431.619995|1439.25    |1439.25        |1386600|GOOGL        |2020-06-03-GOOGL|\n",
      "|2020-06-04|1436.780029|1441.319946|1406.01001 |1414.300049|1414.300049    |1349100|GOOGL        |2020-06-04-GOOGL|\n",
      "|2020-06-05|1415.640015|1446.300049|1407.619995|1440.02002 |1440.02002     |2132100|GOOGL        |2020-06-05-GOOGL|\n",
      "|2020-06-08|1426.280029|1449.0     |1424.47998 |1448.040039|1448.040039    |1693900|GOOGL        |2020-06-08-GOOGL|\n",
      "|2020-06-09|1445.23999 |1467.800049|1442.359985|1452.079956|1452.079956    |1681200|GOOGL        |2020-06-09-GOOGL|\n",
      "|2020-06-10|1461.51001 |1472.77002 |1454.359985|1464.699951|1464.699951    |1588100|GOOGL        |2020-06-10-GOOGL|\n",
      "|2020-06-11|1441.030029|1451.599976|1398.410034|1401.900024|1401.900024    |2357200|GOOGL        |2020-06-11-GOOGL|\n",
      "|2020-06-12|1425.859985|1434.51001 |1385.800049|1412.920044|1412.920044    |1832900|GOOGL        |2020-06-12-GOOGL|\n",
      "+----------+-----------+-----------+-----------+-----------+---------------+-------+-------------+----------------+\n",
      "only showing top 10 rows\n",
      "\n",
      "root\n",
      " |-- open_date: date (nullable = true)\n",
      " |-- open_price: double (nullable = true)\n",
      " |-- high_price: double (nullable = true)\n",
      " |-- low_price: double (nullable = true)\n",
      " |-- close_price: double (nullable = true)\n",
      " |-- adj_close_price: double (nullable = true)\n",
      " |-- volume: integer (nullable = true)\n",
      " |-- ticker_symbol: string (nullable = true)\n",
      " |-- stock_id: string (nullable = false)\n",
      "\n",
      "cols: 9 rows: 13641\n"
     ]
    }
   ],
   "source": [
    "parsed_yahoo_price(spark)"
   ]
  },
  {
   "cell_type": "markdown",
   "metadata": {},
   "source": [
    "## Clean"
   ]
  },
  {
   "cell_type": "code",
   "execution_count": 7,
   "metadata": {},
   "outputs": [],
   "source": [
    "\n",
    "\n",
    "@transform(spark,\n",
    "    parsed = Input('/yahoo_stock_price/parsed/yahoo_price_parsed.parquet', spark),\n",
    "    metadata = Metadata('/yahoo_stock_price/clean/yahoo_price_metadata_clean.csv', spark),\n",
    "    clean = Output('/yahoo_stock_price/clean/yahoo_price_clean.parquet'),\n",
    "    clean_exception = Output('/yahoo_stock_price/exception/yahoo_price_clean_exception.parquet')\n",
    ")\n",
    "def yahoo_price_clean(spark, parsed, metadata, clean, clean_exception):\n",
    "    \n",
    "    schema = metadata()\n",
    "    \n",
    "    print(schema.fieldNames())\n",
    "\n",
    "    pipe = Pipeline(parsed)\n",
    "    pipe = (pipe\n",
    "            .show_dimensions()\n",
    "\n",
    "           )\n",
    "    pipe.dataframe.printSchema()\n",
    "    pipe.dataframe.show(10,0)\n",
    "\n",
    "\n",
    "    validated_pipe = ValidatedPipeline(pipe, metadata)\n",
    "    validated_pipe = (validated_pipe\n",
    "                      \n",
    "                      .validate()\n",
    "                     )\n",
    "    \n",
    "\n",
    "    validated_pipe.write(clean, clean_exception)\n",
    "    \n"
   ]
  },
  {
   "cell_type": "code",
   "execution_count": 8,
   "metadata": {},
   "outputs": [
    {
     "name": "stdout",
     "output_type": "stream",
     "text": [
      "['open_date', 'open_price', 'high_price', 'low_price', 'close_price', 'adj_close_price', 'volume', 'ticker_symbol', 'stock_id']\n",
      "cols: 9 rows: 13641\n",
      "root\n",
      " |-- open_date: date (nullable = true)\n",
      " |-- open_price: double (nullable = true)\n",
      " |-- high_price: double (nullable = true)\n",
      " |-- low_price: double (nullable = true)\n",
      " |-- close_price: double (nullable = true)\n",
      " |-- adj_close_price: double (nullable = true)\n",
      " |-- volume: integer (nullable = true)\n",
      " |-- ticker_symbol: string (nullable = true)\n",
      " |-- stock_id: string (nullable = true)\n",
      "\n",
      "+----------+----------+----------+---------+-----------+---------------+-------+-------------+--------------+\n",
      "|open_date |open_price|high_price|low_price|close_price|adj_close_price|volume |ticker_symbol|stock_id      |\n",
      "+----------+----------+----------+---------+-----------+---------------+-------+-------------+--------------+\n",
      "|2020-06-01|50.919998 |52.720001 |50.82    |52.220001  |51.741547      |2330900|PEG          |2020-06-01-PEG|\n",
      "|2020-06-02|52.5      |52.610001 |51.549999|52.27      |51.791088      |2032500|PEG          |2020-06-02-PEG|\n",
      "|2020-06-03|52.689999 |53.139999 |52.310001|52.75      |52.266689      |1743300|PEG          |2020-06-03-PEG|\n",
      "|2020-06-04|52.290001 |52.52     |51.27    |51.939999  |51.464108      |2370000|PEG          |2020-06-04-PEG|\n",
      "|2020-06-05|52.779999 |54.650002 |52.400002|53.48      |52.989998      |2329900|PEG          |2020-06-05-PEG|\n",
      "|2020-06-08|53.0      |55.73     |53.0     |55.5       |55.5           |3050500|PEG          |2020-06-08-PEG|\n",
      "|2020-06-09|54.849998 |54.849998 |53.119999|53.669998  |53.669998      |2731700|PEG          |2020-06-09-PEG|\n",
      "|2020-06-10|53.400002 |53.450001 |52.130001|52.200001  |52.200001      |4257500|PEG          |2020-06-10-PEG|\n",
      "|2020-06-11|51.119999 |51.330002 |49.419998|50.0       |50.0           |2992700|PEG          |2020-06-11-PEG|\n",
      "|2020-06-12|51.220001 |51.299999 |48.93    |49.709999  |49.709999      |2385500|PEG          |2020-06-12-PEG|\n",
      "+----------+----------+----------+---------+-----------+---------------+-------+-------------+--------------+\n",
      "only showing top 10 rows\n",
      "\n",
      "Validated count: 13641\n",
      "Exception count: 0\n"
     ]
    }
   ],
   "source": [
    "yahoo_price_clean(spark)"
   ]
  },
  {
   "cell_type": "code",
   "execution_count": null,
   "metadata": {},
   "outputs": [],
   "source": []
  }
 ],
 "metadata": {
  "kernelspec": {
   "display_name": "Python 3",
   "language": "python",
   "name": "python3"
  },
  "language_info": {
   "codemirror_mode": {
    "name": "ipython",
    "version": 3
   },
   "file_extension": ".py",
   "mimetype": "text/x-python",
   "name": "python",
   "nbconvert_exporter": "python",
   "pygments_lexer": "ipython3",
   "version": "3.7.7"
  }
 },
 "nbformat": 4,
 "nbformat_minor": 4
}
